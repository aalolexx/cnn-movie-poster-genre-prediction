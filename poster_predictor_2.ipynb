{
 "cells": [
  {
   "cell_type": "markdown",
   "source": [
    "# Genre Predictor by Movie Poster\n",
    "An excercise for the AI Couse"
   ],
   "metadata": {
    "collapsed": false
   }
  },
  {
   "cell_type": "code",
   "execution_count": 4,
   "outputs": [
    {
     "name": "stdout",
     "output_type": "stream",
     "text": [
      "WARNING:tensorflow:From C:\\Users\\alex\\anaconda3\\envs\\poster-genre-prediction\\lib\\site-packages\\keras\\src\\losses.py:2976: The name tf.losses.sparse_softmax_cross_entropy is deprecated. Please use tf.compat.v1.losses.sparse_softmax_cross_entropy instead.\n",
      "\n"
     ]
    }
   ],
   "source": [
    "import ast\n",
    "\n",
    "import pandas as pd\n",
    "import copy\n",
    "import numpy as np\n",
    "import matplotlib.pyplot as plt\n",
    "import seaborn as sns\n",
    "from ast import literal_eval\n",
    "from keras.preprocessing import image\n",
    "from sklearn.metrics import hamming_loss, multilabel_confusion_matrix, roc_curve, classification_report\n",
    "import random\n",
    "from sklearn.model_selection import train_test_split\n",
    "from sklearn.metrics import accuracy_score\n",
    "from sklearn.preprocessing import MultiLabelBinarizer\n",
    "from keras.preprocessing.image import ImageDataGenerator\n",
    "from keras.applications import VGG16\n",
    "from keras.applications import ResNet50V2\n",
    "from keras.applications import ConvNeXtSmall\n",
    "from keras.applications import EfficientNetB0\n",
    "from keras.applications import MobileNetV2\n",
    "from keras.models import Sequential\n",
    "from keras.layers import *\n",
    "from keras.optimizers import Adam\n",
    "from keras.callbacks import ModelCheckpoint, EarlyStopping"
   ],
   "metadata": {
    "collapsed": false,
    "ExecuteTime": {
     "end_time": "2023-12-29T15:48:59.739737300Z",
     "start_time": "2023-12-29T15:48:52.954422700Z"
    }
   }
  },
  {
   "cell_type": "markdown",
   "source": [
    "# Data Preparation"
   ],
   "metadata": {
    "collapsed": false
   }
  },
  {
   "cell_type": "code",
   "execution_count": 5,
   "outputs": [
    {
     "data": {
      "text/plain": "          Id                                Genre  Action  Adventure  \\\n0  tt0086425                  ['Comedy', 'Drama']       0          0   \n1  tt0085549        ['Drama', 'Romance', 'Music']       0          0   \n2  tt0086465                           ['Comedy']       0          0   \n3  tt0086567               ['Sci-Fi', 'Thriller']       0          0   \n4  tt0086034  ['Action', 'Adventure', 'Thriller']       1          1   \n\n   Animation  Biography  Comedy  Crime  Documentary  Drama  ...  News  \\\n0          0          0       1      0            0      1  ...     0   \n1          0          0       0      0            0      1  ...     0   \n2          0          0       1      0            0      0  ...     0   \n3          0          0       0      0            0      0  ...     0   \n4          0          0       0      0            0      0  ...     0   \n\n   Reality-TV  Romance  Sci-Fi  Short  Sport  Thriller  War  Western  \\\n0           0        0       0      0      0         0    0        0   \n1           0        1       0      0      0         0    0        0   \n2           0        0       0      0      0         0    0        0   \n3           0        0       1      0      0         1    0        0   \n4           0        0       0      0      0         1    0        0   \n\n                                      image_path  \n0  data/Multi_Label_dataset/Images/tt0086425.jpg  \n1  data/Multi_Label_dataset/Images/tt0085549.jpg  \n2  data/Multi_Label_dataset/Images/tt0086465.jpg  \n3  data/Multi_Label_dataset/Images/tt0086567.jpg  \n4  data/Multi_Label_dataset/Images/tt0086034.jpg  \n\n[5 rows x 28 columns]",
      "text/html": "<div>\n<style scoped>\n    .dataframe tbody tr th:only-of-type {\n        vertical-align: middle;\n    }\n\n    .dataframe tbody tr th {\n        vertical-align: top;\n    }\n\n    .dataframe thead th {\n        text-align: right;\n    }\n</style>\n<table border=\"1\" class=\"dataframe\">\n  <thead>\n    <tr style=\"text-align: right;\">\n      <th></th>\n      <th>Id</th>\n      <th>Genre</th>\n      <th>Action</th>\n      <th>Adventure</th>\n      <th>Animation</th>\n      <th>Biography</th>\n      <th>Comedy</th>\n      <th>Crime</th>\n      <th>Documentary</th>\n      <th>Drama</th>\n      <th>...</th>\n      <th>News</th>\n      <th>Reality-TV</th>\n      <th>Romance</th>\n      <th>Sci-Fi</th>\n      <th>Short</th>\n      <th>Sport</th>\n      <th>Thriller</th>\n      <th>War</th>\n      <th>Western</th>\n      <th>image_path</th>\n    </tr>\n  </thead>\n  <tbody>\n    <tr>\n      <th>0</th>\n      <td>tt0086425</td>\n      <td>['Comedy', 'Drama']</td>\n      <td>0</td>\n      <td>0</td>\n      <td>0</td>\n      <td>0</td>\n      <td>1</td>\n      <td>0</td>\n      <td>0</td>\n      <td>1</td>\n      <td>...</td>\n      <td>0</td>\n      <td>0</td>\n      <td>0</td>\n      <td>0</td>\n      <td>0</td>\n      <td>0</td>\n      <td>0</td>\n      <td>0</td>\n      <td>0</td>\n      <td>data/Multi_Label_dataset/Images/tt0086425.jpg</td>\n    </tr>\n    <tr>\n      <th>1</th>\n      <td>tt0085549</td>\n      <td>['Drama', 'Romance', 'Music']</td>\n      <td>0</td>\n      <td>0</td>\n      <td>0</td>\n      <td>0</td>\n      <td>0</td>\n      <td>0</td>\n      <td>0</td>\n      <td>1</td>\n      <td>...</td>\n      <td>0</td>\n      <td>0</td>\n      <td>1</td>\n      <td>0</td>\n      <td>0</td>\n      <td>0</td>\n      <td>0</td>\n      <td>0</td>\n      <td>0</td>\n      <td>data/Multi_Label_dataset/Images/tt0085549.jpg</td>\n    </tr>\n    <tr>\n      <th>2</th>\n      <td>tt0086465</td>\n      <td>['Comedy']</td>\n      <td>0</td>\n      <td>0</td>\n      <td>0</td>\n      <td>0</td>\n      <td>1</td>\n      <td>0</td>\n      <td>0</td>\n      <td>0</td>\n      <td>...</td>\n      <td>0</td>\n      <td>0</td>\n      <td>0</td>\n      <td>0</td>\n      <td>0</td>\n      <td>0</td>\n      <td>0</td>\n      <td>0</td>\n      <td>0</td>\n      <td>data/Multi_Label_dataset/Images/tt0086465.jpg</td>\n    </tr>\n    <tr>\n      <th>3</th>\n      <td>tt0086567</td>\n      <td>['Sci-Fi', 'Thriller']</td>\n      <td>0</td>\n      <td>0</td>\n      <td>0</td>\n      <td>0</td>\n      <td>0</td>\n      <td>0</td>\n      <td>0</td>\n      <td>0</td>\n      <td>...</td>\n      <td>0</td>\n      <td>0</td>\n      <td>0</td>\n      <td>1</td>\n      <td>0</td>\n      <td>0</td>\n      <td>1</td>\n      <td>0</td>\n      <td>0</td>\n      <td>data/Multi_Label_dataset/Images/tt0086567.jpg</td>\n    </tr>\n    <tr>\n      <th>4</th>\n      <td>tt0086034</td>\n      <td>['Action', 'Adventure', 'Thriller']</td>\n      <td>1</td>\n      <td>1</td>\n      <td>0</td>\n      <td>0</td>\n      <td>0</td>\n      <td>0</td>\n      <td>0</td>\n      <td>0</td>\n      <td>...</td>\n      <td>0</td>\n      <td>0</td>\n      <td>0</td>\n      <td>0</td>\n      <td>0</td>\n      <td>0</td>\n      <td>1</td>\n      <td>0</td>\n      <td>0</td>\n      <td>data/Multi_Label_dataset/Images/tt0086034.jpg</td>\n    </tr>\n  </tbody>\n</table>\n<p>5 rows × 28 columns</p>\n</div>"
     },
     "execution_count": 5,
     "metadata": {},
     "output_type": "execute_result"
    }
   ],
   "source": [
    "# Load the CSV file with image file paths and corresponding genres\n",
    "csv_path = 'data/Multi_Label_dataset/train.csv'\n",
    "df = pd.read_csv(csv_path)\n",
    "\n",
    "# Define paths to the directory containing movie posters\n",
    "image_dir = 'data/Multi_Label_dataset/Images/'\n",
    "\n",
    "# Join the directory path with the image filenames\n",
    "df['image_path'] = df['Id'].apply(lambda x: image_dir + x + '.jpg')\n",
    "\n",
    "df.head(5)\n"
   ],
   "metadata": {
    "collapsed": false,
    "ExecuteTime": {
     "end_time": "2023-12-29T15:49:01.824704300Z",
     "start_time": "2023-12-29T15:49:01.773685100Z"
    }
   }
  },
  {
   "cell_type": "code",
   "execution_count": 6,
   "outputs": [],
   "source": [
    "# Input NP Array (Image Data directly as pixel values)\n",
    "width = 300\n",
    "height = 300\n",
    "x_data = []\n",
    "for index, row in df.iterrows():\n",
    "    img = image.load_img(row['image_path'],target_size=(height,width,3))\n",
    "    img = image.img_to_array(img)\n",
    "    img = img/255.0\n",
    "    x_data.append(img)\n",
    "\n",
    "x_data = np.array(x_data)\n",
    "y_data = df.drop(['Id', 'Genre', 'image_path'], axis=1).to_numpy()\n",
    "\n",
    "num_classes = y_data.shape[1]\n",
    "\n",
    "x_train, x_test, y_train, y_test = train_test_split(x_data, y_data, test_size=0.1)\n",
    "x_train, x_val, y_train,y_val = train_test_split(x_train, y_train, test_size=0.3)"
   ],
   "metadata": {
    "collapsed": false,
    "ExecuteTime": {
     "end_time": "2023-12-29T15:52:14.458081500Z",
     "start_time": "2023-12-29T15:49:02.470911100Z"
    }
   }
  },
  {
   "cell_type": "code",
   "execution_count": 7,
   "outputs": [],
   "source": [
    "def get_resnet_model(fine_tune=0):\n",
    "    #based on https://www.learndatasci.com/tutorials/hands-on-transfer-learning-keras/\n",
    "    # Load the pre-trained Resnet model\n",
    "    base_model = ResNet50V2(include_top=False, input_shape=(300, 300, 3))\n",
    "\n",
    "    # Freeze the layers of the pre-trained model (exclude fine tuning layers)\n",
    "    if fine_tune > 0:\n",
    "        for layer in base_model.layers[:-fine_tune]:\n",
    "                layer.trainable = False\n",
    "    else:\n",
    "        for layer in base_model.layers:\n",
    "                layer.trainable = False\n",
    "\n",
    "    # Create a new model for genre prediction\n",
    "    return Sequential([\n",
    "        base_model,\n",
    "        Flatten(),\n",
    "        Dense(512, activation='relu'),\n",
    "        Dense(128, activation='relu'),\n",
    "        Dropout(0.1),\n",
    "        Dense(num_classes, activation='relu')\n",
    "    ])\n",
    "\n",
    "def train_model(x_train, x_val, y_train, y_val, p_model, num_epochs, p_model_filename):\n",
    "    p_model.compile(optimizer=Adam(), loss='binary_crossentropy', metrics=['accuracy'])\n",
    "    # Define callbacks\n",
    "    checkpoint = ModelCheckpoint(p_model_filename,\n",
    "                                 save_best_only=True,\n",
    "                                 save_weights_only=True,\n",
    "                                 monitor='val_loss',\n",
    "                                 mode='min',\n",
    "                                 verbose=1)\n",
    "    early_stopping = EarlyStopping(monitor='val_loss', patience=5, mode='min', verbose=1)\n",
    "    # Run the actual training and return training history\n",
    "    history = p_model.fit(\n",
    "        x_train,\n",
    "        y_train,\n",
    "        batch_size=32,\n",
    "        epochs=num_epochs,  # Adjust the number of epochs as needed\n",
    "        validation_data=(x_val, y_val),\n",
    "        callbacks=[checkpoint, early_stopping]\n",
    "    )\n",
    "    return history"
   ],
   "metadata": {
    "collapsed": false,
    "ExecuteTime": {
     "end_time": "2023-12-29T15:52:52.361523200Z",
     "start_time": "2023-12-29T15:52:52.339524800Z"
    }
   }
  },
  {
   "cell_type": "code",
   "execution_count": 8,
   "outputs": [
    {
     "name": "stdout",
     "output_type": "stream",
     "text": [
      "WARNING:tensorflow:From C:\\Users\\alex\\anaconda3\\envs\\poster-genre-prediction\\lib\\site-packages\\keras\\src\\backend.py:1398: The name tf.executing_eagerly_outside_functions is deprecated. Please use tf.compat.v1.executing_eagerly_outside_functions instead.\n",
      "\n",
      "WARNING:tensorflow:From C:\\Users\\alex\\anaconda3\\envs\\poster-genre-prediction\\lib\\site-packages\\keras\\src\\layers\\pooling\\max_pooling2d.py:161: The name tf.nn.max_pool is deprecated. Please use tf.nn.max_pool2d instead.\n",
      "\n",
      "Epoch 1/10\n",
      "WARNING:tensorflow:From C:\\Users\\alex\\anaconda3\\envs\\poster-genre-prediction\\lib\\site-packages\\keras\\src\\utils\\tf_utils.py:492: The name tf.ragged.RaggedTensorValue is deprecated. Please use tf.compat.v1.ragged.RaggedTensorValue instead.\n",
      "\n",
      "WARNING:tensorflow:From C:\\Users\\alex\\anaconda3\\envs\\poster-genre-prediction\\lib\\site-packages\\keras\\src\\engine\\base_layer_utils.py:384: The name tf.executing_eagerly_outside_functions is deprecated. Please use tf.compat.v1.executing_eagerly_outside_functions instead.\n",
      "\n",
      "143/143 [==============================] - ETA: 0s - loss: 2.4924 - accuracy: 0.0556\n",
      "Epoch 1: val_loss improved from inf to 2.06598, saving model to temp\n",
      "143/143 [==============================] - 445s 3s/step - loss: 2.4924 - accuracy: 0.0556 - val_loss: 2.0660 - val_accuracy: 0.0036\n",
      "Epoch 2/10\n",
      "143/143 [==============================] - ETA: 0s - loss: 2.0908 - accuracy: 0.0716\n",
      "Epoch 2: val_loss improved from 2.06598 to 2.01536, saving model to temp\n",
      "143/143 [==============================] - 441s 3s/step - loss: 2.0908 - accuracy: 0.0716 - val_loss: 2.0154 - val_accuracy: 0.2042\n",
      "Epoch 3/10\n",
      "143/143 [==============================] - ETA: 0s - loss: 2.0606 - accuracy: 0.1749\n",
      "Epoch 3: val_loss did not improve from 2.01536\n",
      "143/143 [==============================] - 436s 3s/step - loss: 2.0606 - accuracy: 0.1749 - val_loss: 2.0154 - val_accuracy: 0.2027\n",
      "Epoch 4/10\n",
      "143/143 [==============================] - ETA: 0s - loss: 2.0597 - accuracy: 0.1668\n",
      "Epoch 4: val_loss did not improve from 2.01536\n",
      "143/143 [==============================] - 410s 3s/step - loss: 2.0597 - accuracy: 0.1668 - val_loss: 2.0154 - val_accuracy: 0.2027\n",
      "Epoch 5/10\n",
      "143/143 [==============================] - ETA: 0s - loss: 2.0613 - accuracy: 0.1565\n",
      "Epoch 5: val_loss did not improve from 2.01536\n",
      "143/143 [==============================] - 435s 3s/step - loss: 2.0613 - accuracy: 0.1565 - val_loss: 2.0154 - val_accuracy: 0.2027\n",
      "Epoch 6/10\n",
      "143/143 [==============================] - ETA: 0s - loss: 2.0582 - accuracy: 0.1757\n",
      "Epoch 6: val_loss did not improve from 2.01536\n",
      "143/143 [==============================] - 411s 3s/step - loss: 2.0582 - accuracy: 0.1757 - val_loss: 2.0154 - val_accuracy: 0.2042\n",
      "Epoch 7/10\n",
      "143/143 [==============================] - ETA: 0s - loss: 2.0583 - accuracy: 0.1749\n",
      "Epoch 7: val_loss did not improve from 2.01536\n",
      "143/143 [==============================] - 408s 3s/step - loss: 2.0583 - accuracy: 0.1749 - val_loss: 2.0154 - val_accuracy: 0.1266\n",
      "Epoch 7: early stopping\n"
     ]
    }
   ],
   "source": [
    "model = get_resnet_model()\n",
    "history = train_model(x_train, x_val, y_train, y_val, model, 10, 'temp')"
   ],
   "metadata": {
    "collapsed": false,
    "ExecuteTime": {
     "end_time": "2023-12-29T16:42:57.596297600Z",
     "start_time": "2023-12-29T15:52:53.842899900Z"
    }
   }
  },
  {
   "cell_type": "code",
   "execution_count": null,
   "outputs": [],
   "source": [
    "fig, ax = plt.subplots()\n",
    "plt.plot(history.history['accuracy'], label='Accuracy')\n",
    "plt.xlabel('Epochs')\n",
    "plt.ylabel('Accuracy')\n",
    "plt.legend()\n",
    "ax.set_ylim(0, 1)\n",
    "plt.show()"
   ],
   "metadata": {
    "collapsed": false
   }
  }
 ],
 "metadata": {
  "kernelspec": {
   "display_name": "Python 3",
   "language": "python",
   "name": "python3"
  },
  "language_info": {
   "codemirror_mode": {
    "name": "ipython",
    "version": 2
   },
   "file_extension": ".py",
   "mimetype": "text/x-python",
   "name": "python",
   "nbconvert_exporter": "python",
   "pygments_lexer": "ipython2",
   "version": "2.7.6"
  }
 },
 "nbformat": 4,
 "nbformat_minor": 0
}
